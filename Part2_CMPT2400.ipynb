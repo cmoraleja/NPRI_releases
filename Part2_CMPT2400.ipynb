{
  "cells": [
    {
      "cell_type": "markdown",
      "metadata": {
        "id": "Xl1Ky7hiKfTj"
      },
      "source": [
        "#**Part 2: Feature Engineering**"
      ]
    },
    {
      "cell_type": "code",
      "execution_count": 19,
      "metadata": {
        "id": "NmBoQIH98gqj"
      },
      "outputs": [],
      "source": [
        "import pandas as pd\n",
        "import numpy as np\n",
        "import matplotlib.pyplot as plt\n",
        "import seaborn as sns"
      ]
    },
    {
      "cell_type": "code",
      "execution_count": 20,
      "metadata": {
        "id": "DlfF6lLfKeFE"
      },
      "outputs": [],
      "source": [
        "df_allmedia = pd.read_csv('After Removing Outliers allmedia.csv')\n",
        "df_air = pd.read_csv('After Removing Outliers_Air.csv')\n",
        "df_water = pd.read_csv('After Removing Outliers Water.csv')\n",
        "df_land = pd.read_csv('After Removing Outliers Land.csv')"
      ]
    },
    {
      "cell_type": "code",
      "execution_count": 21,
      "metadata": {
        "id": "yCCEVo1PMjtO"
      },
      "outputs": [],
      "source": [
        "# Standardize the column names\n",
        "df_allmedia.rename(columns={\"Sum of release to all media (<1tonne)\": \"Total Release\"}, inplace=True)\n",
        "df_air.rename(columns={\"Total Release to Air\": \"Total Release\"}, inplace=True)\n",
        "df_water.rename(columns={\"Total Release to Water\": \"Total Release\"}, inplace=True)\n",
        "df_land.rename(columns={\"Total Release to Land\": \"Total Release\"}, inplace=True)\n",
        "\n",
        "# Add a new column to identify the dataset source\n",
        "df_allmedia[\"Source\"] = \"allmedia\"\n",
        "df_air[\"Source\"] = \"air\"\n",
        "df_water[\"Source\"] = \"water\"\n",
        "df_land[\"Source\"] = \"land\""
      ]
    },
    {
      "cell_type": "code",
      "execution_count": 22,
      "metadata": {
        "colab": {
          "base_uri": "https://localhost:8080/"
        },
        "id": "q3qnsB40N3uy",
        "outputId": "0ce8d741-35a3-45c7-fbb0-5d1134d23a96"
      },
      "outputs": [
        {
          "output_type": "stream",
          "name": "stdout",
          "text": [
            "Shape of allmedia dataset: (44262, 13)\n",
            "Shape of air dataset: (620083, 13)\n",
            "Shape of water dataset: (50562, 13)\n",
            "Shape of land dataset: (7523, 13)\n"
          ]
        }
      ],
      "source": [
        "# Display the shapes before merging\n",
        "print(\"Shape of allmedia dataset:\", df_allmedia.shape)\n",
        "print(\"Shape of air dataset:\", df_air.shape)\n",
        "print(\"Shape of water dataset:\", df_water.shape)\n",
        "print(\"Shape of land dataset:\", df_land.shape)"
      ]
    },
    {
      "cell_type": "markdown",
      "metadata": {
        "id": "s-nh6HCTOAf2"
      },
      "source": [
        "##Merging Datasets"
      ]
    },
    {
      "cell_type": "code",
      "execution_count": 23,
      "metadata": {
        "colab": {
          "base_uri": "https://localhost:8080/"
        },
        "id": "_TFrrldSMt5V",
        "outputId": "c74b9b0b-a45d-43a4-e374-3c3221dbe191"
      },
      "outputs": [
        {
          "output_type": "execute_result",
          "data": {
            "text/plain": [
              "(722430, 13)"
            ]
          },
          "metadata": {},
          "execution_count": 23
        }
      ],
      "source": [
        "# Combine the datasets\n",
        "combined_df = pd.concat([df_allmedia, df_air, df_water, df_land], ignore_index=True)\n",
        "\n",
        "#check the new dataset shape\n",
        "combined_df.shape\n"
      ]
    },
    {
      "cell_type": "markdown",
      "metadata": {
        "id": "61n9H7QfQDip"
      },
      "source": [
        "##Feature Engineering for Target Variable"
      ]
    },
    {
      "cell_type": "code",
      "execution_count": 24,
      "metadata": {
        "colab": {
          "base_uri": "https://localhost:8080/",
          "height": 523
        },
        "id": "d0KrlSBCO83F",
        "outputId": "f60e13c8-1357-4b19-ca52-f97fb914a3c3"
      },
      "outputs": [
        {
          "output_type": "execute_result",
          "data": {
            "text/plain": [
              "Reporting_Year              0\n",
              "NPRI_ID                     0\n",
              "Company_Name                0\n",
              "NAICS                       0\n",
              "NAICS Title                 0\n",
              "PROVINCE                    0\n",
              "Latitude                    0\n",
              "Longitude                   0\n",
              "CAS_Number                  0\n",
              "Substance Name (English)    0\n",
              "Estimation_Method           0\n",
              "Total Release               0\n",
              "Source                      0\n",
              "Rate of Change              0\n",
              "dtype: int64"
            ],
            "text/html": [
              "<div>\n",
              "<style scoped>\n",
              "    .dataframe tbody tr th:only-of-type {\n",
              "        vertical-align: middle;\n",
              "    }\n",
              "\n",
              "    .dataframe tbody tr th {\n",
              "        vertical-align: top;\n",
              "    }\n",
              "\n",
              "    .dataframe thead th {\n",
              "        text-align: right;\n",
              "    }\n",
              "</style>\n",
              "<table border=\"1\" class=\"dataframe\">\n",
              "  <thead>\n",
              "    <tr style=\"text-align: right;\">\n",
              "      <th></th>\n",
              "      <th>0</th>\n",
              "    </tr>\n",
              "  </thead>\n",
              "  <tbody>\n",
              "    <tr>\n",
              "      <th>Reporting_Year</th>\n",
              "      <td>0</td>\n",
              "    </tr>\n",
              "    <tr>\n",
              "      <th>NPRI_ID</th>\n",
              "      <td>0</td>\n",
              "    </tr>\n",
              "    <tr>\n",
              "      <th>Company_Name</th>\n",
              "      <td>0</td>\n",
              "    </tr>\n",
              "    <tr>\n",
              "      <th>NAICS</th>\n",
              "      <td>0</td>\n",
              "    </tr>\n",
              "    <tr>\n",
              "      <th>NAICS Title</th>\n",
              "      <td>0</td>\n",
              "    </tr>\n",
              "    <tr>\n",
              "      <th>PROVINCE</th>\n",
              "      <td>0</td>\n",
              "    </tr>\n",
              "    <tr>\n",
              "      <th>Latitude</th>\n",
              "      <td>0</td>\n",
              "    </tr>\n",
              "    <tr>\n",
              "      <th>Longitude</th>\n",
              "      <td>0</td>\n",
              "    </tr>\n",
              "    <tr>\n",
              "      <th>CAS_Number</th>\n",
              "      <td>0</td>\n",
              "    </tr>\n",
              "    <tr>\n",
              "      <th>Substance Name (English)</th>\n",
              "      <td>0</td>\n",
              "    </tr>\n",
              "    <tr>\n",
              "      <th>Estimation_Method</th>\n",
              "      <td>0</td>\n",
              "    </tr>\n",
              "    <tr>\n",
              "      <th>Total Release</th>\n",
              "      <td>0</td>\n",
              "    </tr>\n",
              "    <tr>\n",
              "      <th>Source</th>\n",
              "      <td>0</td>\n",
              "    </tr>\n",
              "    <tr>\n",
              "      <th>Rate of Change</th>\n",
              "      <td>0</td>\n",
              "    </tr>\n",
              "  </tbody>\n",
              "</table>\n",
              "</div><br><label><b>dtype:</b> int64</label>"
            ]
          },
          "metadata": {},
          "execution_count": 24
        }
      ],
      "source": [
        "# Define the relevant categorical columns for grouping\n",
        "categorical_columns = [\n",
        "    \"NPRI_ID\", \"Company_Name\", \"NAICS\", \"NAICS Title\",\n",
        "    \"PROVINCE\", \"CAS_Number\", \"Substance Name (English)\",\n",
        "    \"Estimation_Method\", \"Source\"\n",
        "]\n",
        "\n",
        "# Sort the dataset by the categorical columns and a numeric column for proper ordering\n",
        "combined_df.sort_values(by=categorical_columns + ['Reporting_Year'], inplace=True)\n",
        "\n",
        "# Calculate the Rate of Change for 'Total Release' within each group\n",
        "combined_df['Rate of Change'] = combined_df.groupby(categorical_columns)['Total Release'].pct_change()\n",
        "\n",
        "# Handle missing values in 'Rate of Change' by setting them to zero\n",
        "combined_df['Rate of Change'] = combined_df['Rate of Change'].fillna(0)\n",
        "\n",
        "#double check that there are no missing values\n",
        "combined_df.isnull().sum()"
      ]
    },
    {
      "cell_type": "markdown",
      "metadata": {
        "id": "IOHFnNyklwXL"
      },
      "source": [
        "##Feature Engineering for Relative Years"
      ]
    },
    {
      "cell_type": "code",
      "execution_count": 25,
      "metadata": {
        "colab": {
          "base_uri": "https://localhost:8080/"
        },
        "id": "xoP8RtMGzPDS",
        "outputId": "f3cc229e-c1f8-4e73-bc4f-ebd7bbcac257"
      },
      "outputs": [
        {
          "output_type": "stream",
          "name": "stdout",
          "text": [
            "Index(['Reporting_Year', 'NPRI_ID', 'Company_Name', 'NAICS', 'NAICS Title',\n",
            "       'PROVINCE', 'Latitude', 'Longitude', 'CAS_Number',\n",
            "       'Substance Name (English)', 'Estimation_Method', 'Total Release',\n",
            "       'Source', 'Rate of Change'],\n",
            "      dtype='object')\n"
          ]
        }
      ],
      "source": [
        "print(combined_df.columns)\n"
      ]
    },
    {
      "cell_type": "code",
      "source": [
        "# Assuming combined_df is your dataset\n",
        "combined_df[\"Reporting_Year\"] = combined_df[\"Reporting_Year\"].astype(int)\n",
        "\n",
        "# Grouping by the categorical columns\n",
        "combined_df.sort_values(by=categorical_columns + [\"Reporting_Year\"], inplace=True)\n",
        "\n",
        "# Creating the relative year columns\n",
        "grouped = combined_df.groupby(categorical_columns)\n",
        "combined_df[\"Year-1\"] = grouped[\"Total Release\"].shift(1).fillna(0)\n",
        "combined_df[\"Year-2\"] = grouped[\"Total Release\"].shift(2).fillna(0)\n",
        "combined_df[\"Year-3\"] = grouped[\"Total Release\"].shift(3).fillna(0)\n",
        "combined_df[\"Year-4\"] = grouped[\"Total Release\"].shift(4).fillna(0)\n",
        "combined_df[\"Year-5\"] = grouped[\"Total Release\"].shift(5).fillna(0)\n",
        "\n",
        "# Display the transformed DataFrame\n",
        "print(combined_df.head())\n"
      ],
      "metadata": {
        "colab": {
          "base_uri": "https://localhost:8080/"
        },
        "id": "5Ki5R9SEMQ_T",
        "outputId": "846ed0ce-b0ff-44f3-972c-33ea307cc8df"
      },
      "execution_count": 27,
      "outputs": [
        {
          "output_type": "stream",
          "name": "stdout",
          "text": [
            "        Reporting_Year  NPRI_ID                       Company_Name     NAICS  \\\n",
            "57951             2002      1.0  ALBERTA PACIFIC FOREST INDUSTRIES  322112.0   \n",
            "77573             2003      1.0  ALBERTA PACIFIC FOREST INDUSTRIES  322112.0   \n",
            "105504            2004      1.0  ALBERTA PACIFIC FOREST INDUSTRIES  322112.0   \n",
            "134421            2005      1.0  ALBERTA PACIFIC FOREST INDUSTRIES  322112.0   \n",
            "163392            2006      1.0  ALBERTA PACIFIC FOREST INDUSTRIES  322112.0   \n",
            "\n",
            "                NAICS Title PROVINCE   Latitude   Longitude  CAS_Number  \\\n",
            "57951   Chemical pulp mills       AB  54.923116 -112.861867  10049-04-4   \n",
            "77573   Chemical pulp mills       AB  54.923116 -112.861867  10049-04-4   \n",
            "105504  Chemical pulp mills       AB  54.923116 -112.861867  10049-04-4   \n",
            "134421  Chemical pulp mills       AB  54.923116 -112.861867  10049-04-4   \n",
            "163392  Chemical pulp mills       AB  54.923116 -112.861867  10049-04-4   \n",
            "\n",
            "       Substance Name (English)                     Estimation_Method  \\\n",
            "57951          Chlorine dioxide  M - Monitoring or Direct Measurement   \n",
            "77573          Chlorine dioxide                   M3 - Source Testing   \n",
            "105504         Chlorine dioxide                   M3 - Source Testing   \n",
            "134421         Chlorine dioxide                   M3 - Source Testing   \n",
            "163392         Chlorine dioxide                   M3 - Source Testing   \n",
            "\n",
            "        Total Release Source  Rate of Change   Year-1  Year-2  Year-3  Year-4  \\\n",
            "57951         27224.0    air        0.000000      0.0     0.0     0.0     0.0   \n",
            "77573          8701.0    air        0.000000      0.0     0.0     0.0     0.0   \n",
            "105504         8900.0    air        0.022871   8701.0     0.0     0.0     0.0   \n",
            "134421        14469.0    air        0.625730   8900.0  8701.0     0.0     0.0   \n",
            "163392        18616.0    air        0.286613  14469.0  8900.0  8701.0     0.0   \n",
            "\n",
            "        Year-5  \n",
            "57951      0.0  \n",
            "77573      0.0  \n",
            "105504     0.0  \n",
            "134421     0.0  \n",
            "163392     0.0  \n"
          ]
        }
      ]
    },
    {
      "cell_type": "markdown",
      "metadata": {
        "id": "wOm7A3m7UQAD"
      },
      "source": [
        "##Encoding Categorical Features"
      ]
    },
    {
      "cell_type": "markdown",
      "metadata": {
        "id": "oEAcrcZqXwSK"
      },
      "source": [
        "Observation:\n",
        "\n",
        "NPRI ID is numeric, and the same Company Name repeats for each NPRI ID, but with slight formatting variations.\n",
        "\n",
        "Same observation with NAICS and NAICS title; CAS_number and Substance Name\n",
        "\n",
        "Therefore, to lessen the task for encoding categorical, we will use the id: NPRI ID, NAICS, and CAS_number\n"
      ]
    },
    {
      "cell_type": "code",
      "execution_count": 28,
      "metadata": {
        "colab": {
          "base_uri": "https://localhost:8080/"
        },
        "id": "LigfBkzFZhWn",
        "outputId": "bede87de-7ecc-41bf-ffd6-28314c74faa8"
      },
      "outputs": [
        {
          "output_type": "stream",
          "name": "stdout",
          "text": [
            "PROVINCE             13\n",
            "Estimation_Method    14\n",
            "Source                4\n",
            "dtype: int64\n"
          ]
        }
      ],
      "source": [
        "# List of categorical numerical columns\n",
        "categorical_numerical = [\"NPRI_ID\", \"NAICS\", \"CAS_Number\"]\n",
        "\n",
        "# List of categorical non-numerical columns\n",
        "categorical_non_numerical = [\"PROVINCE\", \"Estimation_Method\", \"Source\"]\n",
        "\n",
        "# Calculate the number of unique values for each column\n",
        "unique_counts = combined_df[categorical_non_numerical].nunique()\n",
        "\n",
        "# Display the unique counts\n",
        "print(unique_counts)\n"
      ]
    },
    {
      "cell_type": "code",
      "execution_count": 32,
      "metadata": {
        "colab": {
          "base_uri": "https://localhost:8080/"
        },
        "id": "cw_bAfK-bKyh",
        "outputId": "b2f7e033-81ee-45e0-fa09-ec1f6f30cf86"
      },
      "outputs": [
        {
          "output_type": "stream",
          "name": "stdout",
          "text": [
            "Reporting_Year                int64\n",
            "NPRI_ID                     float64\n",
            "Company_Name                 object\n",
            "NAICS                       float64\n",
            "NAICS Title                  object\n",
            "PROVINCE                      int64\n",
            "Latitude                    float64\n",
            "Longitude                   float64\n",
            "CAS_Number                   object\n",
            "Substance Name (English)     object\n",
            "Estimation_Method             int64\n",
            "Total Release               float64\n",
            "Source                        int64\n",
            "Rate of Change              float64\n",
            "Year-1                      float64\n",
            "Year-2                      float64\n",
            "Year-3                      float64\n",
            "Year-4                      float64\n",
            "Year-5                      float64\n",
            "dtype: object\n"
          ]
        }
      ],
      "source": [
        "from sklearn.preprocessing import LabelEncoder\n",
        "\n",
        "# Initialize a LabelEncoder\n",
        "label_encoder = LabelEncoder()\n",
        "\n",
        "# Apply Label Encoding to the specified columns\n",
        "for col in categorical_non_numerical:\n",
        "    combined_df[col] = label_encoder.fit_transform(combined_df[col])\n",
        "\n",
        "# Display a preview of the dataset\n",
        "print(combined_df.dtypes)"
      ]
    },
    {
      "cell_type": "markdown",
      "metadata": {
        "id": "GzEmTmC3dkhJ"
      },
      "source": [
        "##Normalization for Numerical features"
      ]
    },
    {
      "cell_type": "code",
      "execution_count": 33,
      "metadata": {
        "id": "4IrEdWrqdn4d"
      },
      "outputs": [],
      "source": [
        "from sklearn.preprocessing import MinMaxScaler\n",
        "\n",
        "# Select numerical columns for normalization\n",
        "numerical_columns = [\"Total Release\", \"Rate of Change\"]\n",
        "\n",
        "# Initialize MinMaxScaler\n",
        "scaler = MinMaxScaler()\n",
        "\n",
        "# Apply normalization\n",
        "combined_df[numerical_columns] = scaler.fit_transform(combined_df[numerical_columns])\n"
      ]
    },
    {
      "cell_type": "markdown",
      "metadata": {
        "id": "2HX8UhPDfe-s"
      },
      "source": [
        "##Convert dataset to CSV for ML Regression Model"
      ]
    },
    {
      "cell_type": "code",
      "execution_count": 34,
      "metadata": {
        "id": "vLegXNocftKZ"
      },
      "outputs": [],
      "source": [
        "# Create a copy of the DataFrame without the specified columns for extraction\n",
        "extracted_df = combined_df.drop(columns=['Company_Name', 'NAICS Title', 'Substance Name (English)'])\n",
        "\n",
        "# Save the modified DataFrame to a new CSV file\n",
        "extracted_df.to_csv(\"Regression_dataset.csv\", index=False)"
      ]
    }
  ],
  "metadata": {
    "colab": {
      "provenance": []
    },
    "kernelspec": {
      "display_name": "Python 3",
      "name": "python3"
    },
    "language_info": {
      "name": "python"
    }
  },
  "nbformat": 4,
  "nbformat_minor": 0
}